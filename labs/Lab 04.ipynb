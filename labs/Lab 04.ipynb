{
  "nbformat": 4,
  "nbformat_minor": 0,
  "metadata": {
    "kernelspec": {
      "display_name": "Python 3",
      "language": "python",
      "name": "python3"
    },
    "language_info": {
      "codemirror_mode": {
        "name": "ipython",
        "version": 3
      },
      "file_extension": ".py",
      "mimetype": "text/x-python",
      "name": "python",
      "nbconvert_exporter": "python",
      "pygments_lexer": "ipython3",
      "version": "3.5.1"
    },
    "colab": {
      "name": "Lab 04.ipynb",
      "provenance": [],
      "include_colab_link": true
    }
  },
  "cells": [
    {
      "cell_type": "markdown",
      "metadata": {
        "id": "view-in-github",
        "colab_type": "text"
      },
      "source": [
        "<a href=\"https://colab.research.google.com/github/organisciak/Text-Mining-Course/blob/independentstudy/labs/Lab%2004.ipynb\" target=\"_parent\"><img src=\"https://colab.research.google.com/assets/colab-badge.svg\" alt=\"Open In Colab\"/></a>"
      ]
    },
    {
      "cell_type": "markdown",
      "metadata": {
        "id": "T6_jZUcjQ9Fy"
      },
      "source": [
        "Hopefully by this week, you're comfortable with lists (i.e. [a, b, c, ..]) and growing to understand list comprehensions.\n",
        "\n",
        "Two fundamental Python skills to be aware of. First, there's a general purpose method called `len()` that returns the length of an object, like \"how many items in this list\" or \"how many characters in this string\". e.g."
      ]
    },
    {
      "cell_type": "code",
      "metadata": {
        "id": "axl1aLAjQ9F1",
        "outputId": "2958bf0d-5448-4006-9747-77371bab5cf8",
        "colab": {
          "base_uri": "https://localhost:8080/"
        }
      },
      "source": [
        "l = ['hello', 'text', 'mining']\n",
        "len(l)"
      ],
      "execution_count": 1,
      "outputs": [
        {
          "output_type": "execute_result",
          "data": {
            "text/plain": [
              "3"
            ]
          },
          "metadata": {},
          "execution_count": 1
        }
      ]
    },
    {
      "cell_type": "code",
      "metadata": {
        "id": "1x1FxeYbQ9GD",
        "outputId": "4244d29b-2982-4486-baa4-9af184cf2b74",
        "colab": {
          "base_uri": "https://localhost:8080/"
        }
      },
      "source": [
        "len(\"Text Mining\")"
      ],
      "execution_count": 2,
      "outputs": [
        {
          "output_type": "execute_result",
          "data": {
            "text/plain": [
              "11"
            ]
          },
          "metadata": {},
          "execution_count": 2
        }
      ]
    },
    {
      "cell_type": "markdown",
      "metadata": {
        "id": "0paeGBF_Q9GQ"
      },
      "source": [
        "There is also an object called a `set`, which is like a list, but without an ordering and only allowing unique elements. This is useful for us, because it gives a quick way to see just the unique words of a list: the vocabulary."
      ]
    },
    {
      "cell_type": "code",
      "metadata": {
        "id": "f06ZhPqlQ9GR",
        "outputId": "a270514b-68c1-4cd1-d74a-5d2fddeb1d89",
        "colab": {
          "base_uri": "https://localhost:8080/"
        }
      },
      "source": [
        "l = ['Buffalo', 'buffalo', 'Buffalo', 'buffalo', 'buffalo', 'Buffalo', 'buffalo', 'buffalo']\n",
        "s = set(l)\n",
        "print(\"List:\", l)\n",
        "print(\"Set:\", s)"
      ],
      "execution_count": 3,
      "outputs": [
        {
          "output_type": "stream",
          "name": "stdout",
          "text": [
            "List: ['Buffalo', 'buffalo', 'Buffalo', 'buffalo', 'buffalo', 'Buffalo', 'buffalo', 'buffalo']\n",
            "Set: {'Buffalo', 'buffalo'}\n"
          ]
        }
      ]
    },
    {
      "cell_type": "markdown",
      "metadata": {
        "id": "y8LXIJxIQ9GU"
      },
      "source": [
        "# Normalization"
      ]
    },
    {
      "cell_type": "markdown",
      "metadata": {
        "id": "kb3uz6suQ9GV"
      },
      "source": [
        "This week, follow along with [Searching for Meaning](https://github.com/sgsinclair/alta/blob/41f389f3d9708573c44c883bcd95fd16bad54a24/ipynb/SearchingMeaning.ipynb) from the Art of Literary Text Analysis.\n",
        "\n",
        "Use the trimmed version of Frankenstein from last week to try some of the concepts in the chapter. This should get you up to speed. If you get an error about a missing tokenization model, figure out how to fix it based on the error text."
      ]
    },
    {
      "cell_type": "code",
      "metadata": {
        "id": "PWyDNBDCNj-2",
        "colab": {
          "base_uri": "https://localhost:8080/"
        },
        "outputId": "d39c1a25-3c2a-4f69-a101-3956ec01627f"
      },
      "source": [
        "import nltk\n",
        "nltk.download('punkt')\n",
        "nltk.download('wordnet')"
      ],
      "execution_count": 7,
      "outputs": [
        {
          "output_type": "stream",
          "name": "stdout",
          "text": [
            "[nltk_data] Downloading package punkt to /root/nltk_data...\n",
            "[nltk_data]   Unzipping tokenizers/punkt.zip.\n"
          ]
        },
        {
          "output_type": "execute_result",
          "data": {
            "text/plain": [
              "True"
            ]
          },
          "metadata": {},
          "execution_count": 7
        }
      ]
    },
    {
      "cell_type": "code",
      "metadata": {
        "id": "6GhbM6OqQ9GW",
        "outputId": "09a20c50-c49f-4a48-eef5-5f8b00f9709c",
        "colab": {
          "base_uri": "https://localhost:8080/"
        }
      },
      "source": [
        "from smart_open import open\n",
        "with open('https://raw.githubusercontent.com/organisciak/Text-Mining-Course/independentstudy/data/frankenstein.txt') as f:\n",
        "    frankensteinString = f.read()\n",
        "frankensteinTokens = nltk.word_tokenize(frankensteinString)\n",
        "cleanedTokens = [word.lower() for word in frankensteinTokens if word[0].isalpha()]\n",
        "len(frankensteinTokens)"
      ],
      "execution_count": 8,
      "outputs": [
        {
          "output_type": "execute_result",
          "data": {
            "text/plain": [
              "85440"
            ]
          },
          "metadata": {},
          "execution_count": 8
        }
      ]
    },
    {
      "cell_type": "markdown",
      "metadata": {
        "id": "CqF6A4q1Q9Gc"
      },
      "source": [
        "Note, that there are 85440 tokens in the text. If we count just the _unique_ words (the _vocabulary size_), we find 7038:"
      ]
    },
    {
      "cell_type": "code",
      "metadata": {
        "scrolled": true,
        "id": "-wT7AnnpQ9Gd",
        "outputId": "b6dbc128-27e9-4621-ee10-d20053422f7e",
        "colab": {
          "base_uri": "https://localhost:8080/"
        }
      },
      "source": [
        "len(set(cleanedTokens))"
      ],
      "execution_count": 9,
      "outputs": [
        {
          "output_type": "execute_result",
          "data": {
            "text/plain": [
              "7038"
            ]
          },
          "metadata": {},
          "execution_count": 9
        }
      ]
    },
    {
      "cell_type": "markdown",
      "metadata": {
        "id": "xrqLCv3WQ9Gh"
      },
      "source": [
        "**Questions**\n",
        "\n",
        "- 1) Create a lemmatized version of cleanedTokens and count the unique lemmas. Share the code to do this: the answer that it gives you should be 6416.\n",
        "- 2) Re-do the lemmatization after stopping words against the default NLTK stoplist, and tabulate the top ten words. Paste the code and output.\n",
        "- 3) How does the tabulation of lemmas differ from the tabulation of the non-lemmatized (but still stopped and case-folded) tokens?\n",
        "- 4) What are the WordNet synsets for 'monster'?\n",
        "- 5) A synset has a method called `definition()`. Noting that the code for Q4 resulted in a list, write a list comprehension to extracts all the definitions for each synset. Share the code and output.\n",
        "- 6) Each synset is a child of a more general synset. For example, `crab` is an example of a `decapod_crustacean`, which is more generally a `crustacean`, and so on. You can get at the paths to the root of this tree with `hypernym_paths()`. Paste the code and hypernym path for `freak.n.01`.\n",
        "- 7) (for 2 points): We've already seen some corpora that NLTK can pull in, from the complex WordNet information to a basic stoplist. Using the NLTK information on male/female names, determine and paste in the unique female names in Frankenstein. This isn't in the ALTA book, but searching Google sometimes helps ;)\n",
        "\n",
        "Our copy of Frankenstein is from Project Gutenberg, a collection of transcriptions of public domain (i.e. legally shareable) books. NLTK offers a small selection of those books through `nltk.corpus.gutenberg`.\n",
        "\n",
        "Load the gutenberg corpus and convert it to what NLTK calls a TextCollection:"
      ]
    },
    {
      "cell_type": "code",
      "metadata": {
        "id": "DugsXNDHQ9Gi",
        "outputId": "038605da-d941-4bad-ba04-8780fa6c6793",
        "colab": {
          "base_uri": "https://localhost:8080/",
          "height": 50
        }
      },
      "source": [
        "nltk.download('gutenberg')\n",
        "from nltk.text import TextCollection\n",
        "gutenberg_docs = nltk.corpus.gutenberg\n",
        "gutenberg_collection = TextCollection(gutenberg_docs)"
      ],
      "execution_count": null,
      "outputs": [
        {
          "output_type": "stream",
          "text": [
            "[nltk_data] Downloading package gutenberg to /root/nltk_data...\n",
            "[nltk_data]   Package gutenberg is already up-to-date!\n"
          ],
          "name": "stdout"
        }
      ]
    },
    {
      "cell_type": "markdown",
      "metadata": {
        "id": "PB8Uux8oQ9Gm"
      },
      "source": [
        "Using a method of `gutenberg_collection` (remember auto-complete!), answer the final two-part question.\n",
        "\n",
        "Questions:\n",
        "    \n",
        " - 8) For 2 points:\n",
        "   - What is the TFIDF for 'monster' in Frankenstein? The 'text' argument of the proper method takes a list of word tokens - you'll need the original (unnormalized) tokens.\n",
        "   - What word has the highest TF-IDF for the following: 'miserable', 'horror', 'monster'? If you need it, you can compare numbers in python with > (greater than) or < (less than)."
      ]
    }
  ]
}