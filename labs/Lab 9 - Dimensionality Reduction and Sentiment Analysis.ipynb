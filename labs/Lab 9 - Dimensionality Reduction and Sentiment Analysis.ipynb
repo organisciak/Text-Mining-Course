{
 "cells": [
  {
   "cell_type": "markdown",
   "metadata": {},
   "source": [
    "Lab 9\n",
    "\n",
    "- Dimensionality reduction with Latent Semantic Analysis\n",
    "- Dictionary-based sentiment analysis\n",
    "- Classification-based sentiment analysis"
   ]
  },
  {
   "cell_type": "code",
   "execution_count": null,
   "metadata": {
    "collapsed": false
   },
   "outputs": [],
   "source": [
    "%matplotlib inline\n",
    "import pandas as pd\n",
    "\n",
    "path = 'https://raw.githubusercontent.com/organisciak/Text-Mining-Course/master/data/contemporary_books/'\n",
    "data = pd.read_csv(path + 'contemporary.csv', encoding='utf-8').set_index('book')\n",
    "info = pd.read_csv(path + 'contemporary_labels.csv', encoding='utf-8')"
   ]
  },
  {
   "cell_type": "markdown",
   "metadata": {},
   "source": [
    "## Latent Semantic Analysis\n",
    "\n",
    "Latent Semantic Analysis applies a dimensionality reduction, SVD, over the term-document matrix. It can be found in Sci-Kit Learn using a similar interface to what we saw for classification and clustering: you initialize the model, train it (`fit`), then optionally give it other texts to infer which topics they belong to (`transform`). As before, if you want to see the topics for the texts that you're training on, you can use `fit_transform` all at once.\n",
    "\n",
    "http://scikit-learn.org/stable/modules/generated/sklearn.decomposition.TruncatedSVD.html"
   ]
  },
  {
   "cell_type": "code",
   "execution_count": null,
   "metadata": {
    "collapsed": false
   },
   "outputs": [],
   "source": [
    "from sklearn.decomposition import TruncatedSVD\n",
    "lsa = TruncatedSVD(n_components=2)\n",
    "twodims = lsa.fit_transform(data.values)"
   ]
  },
  {
   "cell_type": "markdown",
   "metadata": {},
   "source": [
    "`twodims` here gives us a representation of each of our books in two numbers. This is too small to be interpreted by us as topics, but the number are still useful for interpreting the similarity or difference of our books.\n",
    "\n",
    "`twodims` is currently a Numpy Array, let's convert it to something we know better, a DataFrame:"
   ]
  },
  {
   "cell_type": "code",
   "execution_count": null,
   "metadata": {
    "collapsed": false
   },
   "outputs": [
    {
     "data": {
      "text/html": [
       "<div>\n",
       "<table border=\"1\" class=\"dataframe\">\n",
       "  <thead>\n",
       "    <tr style=\"text-align: right;\">\n",
       "      <th></th>\n",
       "      <th>dim1</th>\n",
       "      <th>dim2</th>\n",
       "    </tr>\n",
       "    <tr>\n",
       "      <th>title</th>\n",
       "      <th></th>\n",
       "      <th></th>\n",
       "    </tr>\n",
       "  </thead>\n",
       "  <tbody>\n",
       "    <tr>\n",
       "      <th>The stand</th>\n",
       "      <td>4539.134777</td>\n",
       "      <td>-899.085753</td>\n",
       "    </tr>\n",
       "    <tr>\n",
       "      <th>Lady oracle;</th>\n",
       "      <td>1483.051270</td>\n",
       "      <td>-156.938076</td>\n",
       "    </tr>\n",
       "    <tr>\n",
       "      <th>The robber bride</th>\n",
       "      <td>2061.469682</td>\n",
       "      <td>1036.625793</td>\n",
       "    </tr>\n",
       "    <tr>\n",
       "      <th>The pelican brief</th>\n",
       "      <td>1304.004510</td>\n",
       "      <td>133.809116</td>\n",
       "    </tr>\n",
       "    <tr>\n",
       "      <th>The rainmaker</th>\n",
       "      <td>1642.424503</td>\n",
       "      <td>1212.007131</td>\n",
       "    </tr>\n",
       "  </tbody>\n",
       "</table>\n",
       "</div>"
      ],
      "text/plain": [
       "                          dim1         dim2\n",
       "title                                      \n",
       "The stand          4539.134777  -899.085753\n",
       "Lady oracle;       1483.051270  -156.938076\n",
       "The robber bride   2061.469682  1036.625793\n",
       "The pelican brief  1304.004510   133.809116\n",
       "The rainmaker      1642.424503  1212.007131"
      ]
     },
     "execution_count": 3,
     "metadata": {},
     "output_type": "execute_result"
    }
   ],
   "source": [
    "twodims_df = pd.DataFrame(twodims, columns=['dim1', 'dim2'], index=info['title'])\n",
    "twodims_df.head()"
   ]
  },
  {
   "cell_type": "markdown",
   "metadata": {},
   "source": [
    "DataFrames have a call to `plot.scatter` that is useful here:"
   ]
  },
  {
   "cell_type": "code",
   "execution_count": null,
   "metadata": {
    "collapsed": false
   },
   "outputs": [
    {
     "data": {
      "text/plain": [
       "<matplotlib.axes._subplots.AxesSubplot at 0x135c6a0df98>"
      ]
     },
     "execution_count": 4,
     "metadata": {},
     "output_type": "execute_result"
    },
    {
     "data": {
      "image/png": "[encoded data removed]",
      "text/plain": [
       "<matplotlib.figure.Figure at 0x135c6bed9e8>"
      ]
     },
     "metadata": {},
     "output_type": "display_data"
    }
   ],
   "source": [
    "twodims_df.plot.scatter('dim1', 'dim2')"
   ]
  },
  {
   "cell_type": "markdown",
   "metadata": {},
   "source": [
    "This plot of all the books shows that, when reducing the document-term matrix to 2-dimensions, *The Stand* is a heavy outlier, confirming what we saw last week.\n",
    "\n",
    "As last week, a TFIDF transformation will give better results, as such:\n",
    "\n",
    "![](../images/lsa_2dim_tfidf.png)\n",
    "\n",
    "**Q1** (2pts): Show the code to produce the above image. Note that the TFIDF transformation uses sublinear TF scaling."
   ]
  },
  {
   "cell_type": "markdown",
   "metadata": {},
   "source": [
    "## Inspecting the LSA output\n",
    "\n",
    "You can look at how each word fits into each dimension with `lsa.components_`. This value only exists after the model is trained with `lsa.fit` or, as we did above, `lsa.fit_transform`.\n",
    "\n",
    "*Tip*: If you're trying to figure out what information is in a matrix, often its useful to check how big it is. We know that our original document-term matrix is:"
   ]
  },
  {
   "cell_type": "code",
   "execution_count": null,
   "metadata": {
    "collapsed": false
   },
   "outputs": [
    {
     "data": {
      "text/plain": [
       "(31, 17570)"
      ]
     },
     "execution_count": 5,
     "metadata": {},
     "output_type": "execute_result"
    }
   ],
   "source": [
    "data.shape"
   ]
  },
  {
   "cell_type": "markdown",
   "metadata": {},
   "source": [
    ".. 31 books x 17570 words. The output of our two-dimension LSA is:"
   ]
  },
  {
   "cell_type": "code",
   "execution_count": null,
   "metadata": {
    "collapsed": false
   },
   "outputs": [
    {
     "data": {
      "text/plain": [
       "(31, 2)"
      ]
     },
     "execution_count": 6,
     "metadata": {},
     "output_type": "execute_result"
    }
   ],
   "source": [
    "twodims.shape"
   ]
  },
  {
   "cell_type": "markdown",
   "metadata": {},
   "source": [
    "...31 books x 2 dimensions. So when we check the size of `lsa.components_`:"
   ]
  },
  {
   "cell_type": "code",
   "execution_count": null,
   "metadata": {
    "collapsed": false
   },
   "outputs": [
    {
     "data": {
      "text/plain": [
       "(2, 17570)"
      ]
     },
     "execution_count": 7,
     "metadata": {},
     "output_type": "execute_result"
    }
   ],
   "source": [
    "lsa.components_.shape"
   ]
  },
  {
   "cell_type": "markdown",
   "metadata": {},
   "source": [
    "We can infer that it is a dimension x word matrix. Convert it to a DataFrame and transpose it (i.e. rotate the columns/row, with `T`) so that the dimensions are rows rather than columns."
   ]
  },
  {
   "cell_type": "code",
   "execution_count": null,
   "metadata": {
    "collapsed": false,
    "scrolled": true
   },
   "outputs": [
    {
     "data": {
      "text/html": [
       "<div>\n",
       "<table border=\"1\" class=\"dataframe\">\n",
       "  <thead>\n",
       "    <tr style=\"text-align: right;\">\n",
       "      <th></th>\n",
       "      <th>0</th>\n",
       "      <th>1</th>\n",
       "    </tr>\n",
       "  </thead>\n",
       "  <tbody>\n",
       "    <tr>\n",
       "      <th>aback</th>\n",
       "      <td>0.000299</td>\n",
       "      <td>0.000628</td>\n",
       "    </tr>\n",
       "    <tr>\n",
       "      <th>abagail</th>\n",
       "      <td>0.000541</td>\n",
       "      <td>-0.001387</td>\n",
       "    </tr>\n",
       "    <tr>\n",
       "      <th>abandon</th>\n",
       "      <td>0.000305</td>\n",
       "      <td>-0.000280</td>\n",
       "    </tr>\n",
       "    <tr>\n",
       "      <th>abandoned</th>\n",
       "      <td>0.002105</td>\n",
       "      <td>0.002336</td>\n",
       "    </tr>\n",
       "    <tr>\n",
       "      <th>abandoning</th>\n",
       "      <td>0.000152</td>\n",
       "      <td>0.000389</td>\n",
       "    </tr>\n",
       "  </tbody>\n",
       "</table>\n",
       "</div>"
      ],
      "text/plain": [
       "                   0         1\n",
       "aback       0.000299  0.000628\n",
       "abagail     0.000541 -0.001387\n",
       "abandon     0.000305 -0.000280\n",
       "abandoned   0.002105  0.002336\n",
       "abandoning  0.000152  0.000389"
      ]
     },
     "execution_count": 8,
     "metadata": {},
     "output_type": "execute_result"
    }
   ],
   "source": [
    "dimwords = pd.DataFrame(lsa.components_, columns=data.columns).T\n",
    "dimwords.head()"
   ]
  },
  {
   "cell_type": "markdown",
   "metadata": {},
   "source": [
    "What are the most representative words for a topic? Choose a column and sort it in descending order to find out. Noting that we didn't change the column names this time from the default `0` and `1`, selection and sorting should be familiar to you by now:"
   ]
  },
  {
   "cell_type": "code",
   "execution_count": null,
   "metadata": {
    "collapsed": false,
    "scrolled": true
   },
   "outputs": [
    {
     "data": {
      "text/plain": [
       "said    0.401848\n",
       "back    0.209380\n",
       "know    0.162806\n",
       "time    0.147195\n",
       "get     0.138833\n",
       "Name: 0, dtype: float64"
      ]
     },
     "execution_count": 9,
     "metadata": {},
     "output_type": "execute_result"
    }
   ],
   "source": [
    "dimwords[0].sort_values(ascending=False).head()"
   ]
  },
  {
   "cell_type": "markdown",
   "metadata": {},
   "source": [
    "Or more generally, extracting the top words from the index, for each dimension:"
   ]
  },
  {
   "cell_type": "code",
   "execution_count": null,
   "metadata": {
    "collapsed": false
   },
   "outputs": [
    {
     "name": "stdout",
     "output_type": "stream",
     "text": [
      "0 Top words:  ['said' 'back' 'know' 'time' 'get' 'little' 'right']\n",
      "1 Top words:  ['says' 'say' 'money' 'lawyer' 'office' 'jury' 'ask']\n"
     ]
    }
   ],
   "source": [
    "for i in range(0, 2):\n",
    "    topwords = dimwords[i].sort_values(ascending=False)\n",
    "    print(i, \"Top words: \", topwords.index.values[:7])"
   ]
  },
  {
   "cell_type": "markdown",
   "metadata": {},
   "source": [
    "To move toward topics, try training with more dimensions, and with smaller document frames (e.g. pages rather than books). Here are the top words for 15 topics:\n",
    "\n",
    "```\n",
    "0 Top words:  ['time' 'way' 'something' 'eyes' 'man' 'door' 'head']\n",
    "1 Top words:  ['lawyers' 'trial' 'lawyer' 'jury' 'client' 'firm' 'office']\n",
    "2 Top words:  ['university' 'mar' 'billing' 'books' 'book' 'date' 'fiction']\n",
    "3 Top words:  ['fiction' 'copyright' 'book' 'women' 'author' 'children' 'permission']\n",
    "4 Top words:  ['copyright' 'book' 'fiction' 'trademarks' 'characters' 'resemblance'\n",
    " 'author']\n",
    "5 Top words:  ['jury' 'jurors' 'courtroom' 'witness' 'trial' 'courthouse' 'county']\n",
    "6 Top words:  ['copyright' 'division' 'trademarks' 'persons' 'rights' 'resemblance'\n",
    " 'permission']\n",
    "7 Top words:  ['claims' 'claim' 'policy' 'documents' 'company' 'firm' 'marrow']\n",
    "8 Top words:  ['woods' 'boat' 'settlement' 'firm' 'water' 'tree' 'trees']\n",
    "9 Top words:  ['quarterback' 'team' 'panthers' 'football' 'field' 'game' 'ball']\n",
    "10 Top words:  ['beach' 'shells' 'daughter' 'paintings' 'pictures' 'painting' 'ship']\n",
    "11 Top words:  ['firm' 'tort' 'plaintiffs' 'art' 'trial' 'paintings' 'shells']\n",
    "12 Top words:  ['maids' 'suitors' 'cop' 'palace' 'husband' 'son' 'father']\n",
    "13 Top words:  ['boat' 'river' 'cop' 'sand' 'plane' 'wind' 'boats']\n",
    "14 Top words:  ['firm' 'exam' 'hospital' 'horror' 'bar' 'nurse' 'cell']\n",
    "```\n",
    "\n",
    "We've posted data for 10-page chunks of the same books here:"
   ]
  },
  {
   "cell_type": "code",
   "execution_count": null,
   "metadata": {
    "collapsed": false
   },
   "outputs": [],
   "source": [
    "path = 'https://raw.githubusercontent.com/organisciak/Text-Mining-Course/master/data/contemporary_books/'\n",
    "data = pd.read_csv(path + 'contemporary-pages.csv.gz', encoding='utf-8', compression='gzip').set_index('id')\n",
    "info = pd.read_csv(path + 'contemporary-pages_labels.csv', encoding='utf-8')"
   ]
  },
  {
   "cell_type": "markdown",
   "metadata": {},
   "source": [
    "**Q2**: Training on the page chunks, train a model with 15 topics and view the topics. They'll be similar but not necessarily the same to what is posted above. Share your code."
   ]
  },
  {
   "cell_type": "markdown",
   "metadata": {},
   "source": [
    "## Sentiment Analysis - Dictionary Method\n",
    "\n",
    "One form of sentiment analysis is through dictionaries that assign a valence to a set of known words.\n",
    "\n",
    "We'll use a version of the dictionary created by Nielson (2011). To use it, download the [zip file](http://www2.imm.dtu.dk/pubdb/views/publication_details.php?id=6010) and unpack `AFINN-111.txt`.\n",
    "\n",
    "\\*Nielsen, Finn Årup. May 2011. \"A new ANEW: Evaluation of a word list for sentiment analysis in microblogs\", Proceedings of the ESWC 2011 Workshop on 'Making Sense of Microposts': Big things come in small packages 718 in CEUR Workshop Proceedings : 93-98. http://arxiv.org/abs/1103.2903\n",
    "\n",
    "This dictionary assigns emotional values from -5 to +5: negative values denote negative emotion, while positive values are positive."
   ]
  },
  {
   "cell_type": "code",
   "execution_count": null,
   "metadata": {
    "collapsed": false
   },
   "outputs": [
    {
     "data": {
      "text/html": [
       "<div>\n",
       "<table border=\"1\" class=\"dataframe\">\n",
       "  <thead>\n",
       "    <tr style=\"text-align: right;\">\n",
       "      <th></th>\n",
       "      <th>token</th>\n",
       "      <th>valence</th>\n",
       "    </tr>\n",
       "  </thead>\n",
       "  <tbody>\n",
       "    <tr>\n",
       "      <th>136</th>\n",
       "      <td>anxious</td>\n",
       "      <td>-2</td>\n",
       "    </tr>\n",
       "    <tr>\n",
       "      <th>94</th>\n",
       "      <td>agonizing</td>\n",
       "      <td>-3</td>\n",
       "    </tr>\n",
       "    <tr>\n",
       "      <th>44</th>\n",
       "      <td>acquit</td>\n",
       "      <td>2</td>\n",
       "    </tr>\n",
       "    <tr>\n",
       "      <th>1570</th>\n",
       "      <td>motivated</td>\n",
       "      <td>2</td>\n",
       "    </tr>\n",
       "    <tr>\n",
       "      <th>697</th>\n",
       "      <td>disdain</td>\n",
       "      <td>-2</td>\n",
       "    </tr>\n",
       "  </tbody>\n",
       "</table>\n",
       "</div>"
      ],
      "text/plain": [
       "          token  valence\n",
       "136     anxious       -2\n",
       "94    agonizing       -3\n",
       "44       acquit        2\n",
       "1570  motivated        2\n",
       "697     disdain       -2"
      ]
     },
     "execution_count": 13,
     "metadata": {},
     "output_type": "execute_result"
    }
   ],
   "source": [
    "afinn = pd.read_csv(\"../data/AFINN-111.txt\", sep='\\t', names=['token','valence'])\n",
    "afinn.sample(5)"
   ]
  },
  {
   "cell_type": "markdown",
   "metadata": {},
   "source": [
    "Here's an example of a word at each sentiment value:\n",
    "\n",
    "(What am I doing here? I'm grouping by different values for 'value' and randomly sampling a single row from that subgroup)"
   ]
  },
  {
   "cell_type": "code",
   "execution_count": null,
   "metadata": {
    "collapsed": false
   },
   "outputs": [
    {
     "data": {
      "text/html": [
       "<div>\n",
       "<table border=\"1\" class=\"dataframe\">\n",
       "  <thead>\n",
       "    <tr style=\"text-align: right;\">\n",
       "      <th></th>\n",
       "      <th></th>\n",
       "      <th>token</th>\n",
       "      <th>valence</th>\n",
       "    </tr>\n",
       "    <tr>\n",
       "      <th>valence</th>\n",
       "      <th></th>\n",
       "      <th></th>\n",
       "      <th></th>\n",
       "    </tr>\n",
       "  </thead>\n",
       "  <tbody>\n",
       "    <tr>\n",
       "      <th>-5</th>\n",
       "      <th>1766</th>\n",
       "      <td>prick</td>\n",
       "      <td>-5</td>\n",
       "    </tr>\n",
       "    <tr>\n",
       "      <th>-4</th>\n",
       "      <th>1371</th>\n",
       "      <td>jackasses</td>\n",
       "      <td>-4</td>\n",
       "    </tr>\n",
       "    <tr>\n",
       "      <th>-3</th>\n",
       "      <th>2220</th>\n",
       "      <td>terrorized</td>\n",
       "      <td>-3</td>\n",
       "    </tr>\n",
       "    <tr>\n",
       "      <th>-2</th>\n",
       "      <th>1880</th>\n",
       "      <td>resentful</td>\n",
       "      <td>-2</td>\n",
       "    </tr>\n",
       "    <tr>\n",
       "      <th>-1</th>\n",
       "      <th>266</th>\n",
       "      <td>bias</td>\n",
       "      <td>-1</td>\n",
       "    </tr>\n",
       "    <tr>\n",
       "      <th>0</th>\n",
       "      <th>2073</th>\n",
       "      <td>some kind</td>\n",
       "      <td>0</td>\n",
       "    </tr>\n",
       "    <tr>\n",
       "      <th>1</th>\n",
       "      <th>1793</th>\n",
       "      <td>protected</td>\n",
       "      <td>1</td>\n",
       "    </tr>\n",
       "    <tr>\n",
       "      <th>2</th>\n",
       "      <th>398</th>\n",
       "      <td>chic</td>\n",
       "      <td>2</td>\n",
       "    </tr>\n",
       "    <tr>\n",
       "      <th>3</th>\n",
       "      <th>956</th>\n",
       "      <td>fascinated</td>\n",
       "      <td>3</td>\n",
       "    </tr>\n",
       "    <tr>\n",
       "      <th>4</th>\n",
       "      <th>1935</th>\n",
       "      <td>roflcopter</td>\n",
       "      <td>4</td>\n",
       "    </tr>\n",
       "    <tr>\n",
       "      <th>5</th>\n",
       "      <th>1226</th>\n",
       "      <td>hurrah</td>\n",
       "      <td>5</td>\n",
       "    </tr>\n",
       "  </tbody>\n",
       "</table>\n",
       "</div>"
      ],
      "text/plain": [
       "                   token  valence\n",
       "valence                          \n",
       "-5      1766       prick       -5\n",
       "-4      1371   jackasses       -4\n",
       "-3      2220  terrorized       -3\n",
       "-2      1880   resentful       -2\n",
       "-1      266         bias       -1\n",
       " 0      2073   some kind        0\n",
       " 1      1793   protected        1\n",
       " 2      398         chic        2\n",
       " 3      956   fascinated        3\n",
       " 4      1935  roflcopter        4\n",
       " 5      1226      hurrah        5"
      ]
     },
     "execution_count": 28,
     "metadata": {},
     "output_type": "execute_result"
    }
   ],
   "source": [
    "afinn.groupby('valence').apply(lambda x: x.sample())"
   ]
  },
  {
   "cell_type": "markdown",
   "metadata": {
    "collapsed": true
   },
   "source": [
    "One way to use a sentiment dictionary is to assign sentiment weights to all the known words, and sum it up.\n",
    "\n",
    "Since we already have the sentiment dictionary as a Pandas DataFrame, we can load a DataFrame from our text and do an 'inner join', which joins two dataframes based on the values that overlap between specific columns.\n",
    "\n",
    "The book we'll try is _The Stand_, available in the Github repository or at https://bedrock.resnet.cms.waikato.ac.nz/vol-checker/VolumeCheck?download-id=mdp.39015005028686. "
   ]
  },
  {
   "cell_type": "code",
   "execution_count": null,
   "metadata": {
    "collapsed": false
   },
   "outputs": [
    {
     "name": "stdout",
     "output_type": "stream",
     "text": [
      "Our book is  The stand / Stephen King.\n"
     ]
    },
    {
     "data": {
      "text/html": [
       "<div>\n",
       "<table border=\"1\" class=\"dataframe\">\n",
       "  <thead>\n",
       "    <tr style=\"text-align: right;\">\n",
       "      <th></th>\n",
       "      <th>section</th>\n",
       "      <th>lowercase</th>\n",
       "      <th>count</th>\n",
       "    </tr>\n",
       "  </thead>\n",
       "  <tbody>\n",
       "    <tr>\n",
       "      <th>0</th>\n",
       "      <td>body</td>\n",
       "      <td>!</td>\n",
       "      <td>857</td>\n",
       "    </tr>\n",
       "    <tr>\n",
       "      <th>1</th>\n",
       "      <td>body</td>\n",
       "      <td>!«&amp;i</td>\n",
       "      <td>1</td>\n",
       "    </tr>\n",
       "  </tbody>\n",
       "</table>\n",
       "</div>"
      ],
      "text/plain": [
       "  section lowercase  count\n",
       "0    body         !    857\n",
       "1    body      !«&i      1"
      ]
     },
     "execution_count": 14,
     "metadata": {},
     "output_type": "execute_result"
    }
   ],
   "source": [
    "# Load a volume\n",
    "from htrc_features import FeatureReader\n",
    "fr = FeatureReader('../data/contemporary_books/dataset_files/mdp.39015005028686.json.bz2')\n",
    "vol = fr.first()\n",
    "\n",
    "print(\"Our book is \", vol.title)\n",
    "\n",
    "df = vol.tokenlist(pos=False, pages=False, case=False).reset_index()\n",
    "df.head(2)"
   ]
  },
  {
   "cell_type": "markdown",
   "metadata": {},
   "source": [
    "Inner join is possible with `pd.merge(dataframe1, dataframe2)`.\n",
    "\n",
    "Here is a visual example of inner joining from the [Brief primer on merge methods](http://pandas.pydata.org/pandas-docs/stable/merging.html#brief-primer-on-merge-methods-relational-algebra) from the Pandas documentation:\n",
    "\n",
    "![](../images/inner-join.png)"
   ]
  },
  {
   "cell_type": "code",
   "execution_count": null,
   "metadata": {
    "collapsed": false
   },
   "outputs": [
    {
     "data": {
      "text/html": [
       "<div>\n",
       "<table border=\"1\" class=\"dataframe\">\n",
       "  <thead>\n",
       "    <tr style=\"text-align: right;\">\n",
       "      <th></th>\n",
       "      <th>section</th>\n",
       "      <th>lowercase</th>\n",
       "      <th>count</th>\n",
       "      <th>token</th>\n",
       "      <th>valence</th>\n",
       "    </tr>\n",
       "  </thead>\n",
       "  <tbody>\n",
       "    <tr>\n",
       "      <th>0</th>\n",
       "      <td>body</td>\n",
       "      <td>abandon</td>\n",
       "      <td>2</td>\n",
       "      <td>abandon</td>\n",
       "      <td>-2</td>\n",
       "    </tr>\n",
       "    <tr>\n",
       "      <th>1</th>\n",
       "      <td>body</td>\n",
       "      <td>abandoned</td>\n",
       "      <td>6</td>\n",
       "      <td>abandoned</td>\n",
       "      <td>-2</td>\n",
       "    </tr>\n",
       "    <tr>\n",
       "      <th>2</th>\n",
       "      <td>body</td>\n",
       "      <td>ability</td>\n",
       "      <td>8</td>\n",
       "      <td>ability</td>\n",
       "      <td>2</td>\n",
       "    </tr>\n",
       "    <tr>\n",
       "      <th>3</th>\n",
       "      <td>body</td>\n",
       "      <td>aboard</td>\n",
       "      <td>2</td>\n",
       "      <td>aboard</td>\n",
       "      <td>1</td>\n",
       "    </tr>\n",
       "    <tr>\n",
       "      <th>4</th>\n",
       "      <td>body</td>\n",
       "      <td>absolve</td>\n",
       "      <td>1</td>\n",
       "      <td>absolve</td>\n",
       "      <td>2</td>\n",
       "    </tr>\n",
       "  </tbody>\n",
       "</table>\n",
       "</div>"
      ],
      "text/plain": [
       "  section  lowercase  count      token  valence\n",
       "0    body    abandon      2    abandon       -2\n",
       "1    body  abandoned      6  abandoned       -2\n",
       "2    body    ability      8    ability        2\n",
       "3    body     aboard      2     aboard        1\n",
       "4    body    absolve      1    absolve        2"
      ]
     },
     "execution_count": 15,
     "metadata": {},
     "output_type": "execute_result"
    }
   ],
   "source": [
    "valence = pd.merge(df, afinn, left_on='lowercase', right_on='token')\n",
    "valence.head()"
   ]
  },
  {
   "cell_type": "markdown",
   "metadata": {},
   "source": [
    "As you can see, the only the words from _The Stand_ that also exist in the dictionary were retained.\n",
    "\n",
    "Side-note: there are two columns that you don't need. If they bother you they can be deleted with `drop()` -- e.g., `valence.drop(['section', 'lowercase'], 1)` -- or simply ignore them!\n",
    "\n",
    "**Q3** (2 points): Share the code to determine the sum of all the sentiment scores for _The Stand_. Hints: The result is `-1397`, not `-559`. Also, remember that a single column of a DataFrame is simply as Series object, so Googling 'sum a Series in Pandas' might help in summing a column."
   ]
  },
  {
   "cell_type": "markdown",
   "metadata": {},
   "source": [
    "**Q4**: What is a possible problem with summing a set of dictionary assigned sentiment scores?"
   ]
  },
  {
   "cell_type": "markdown",
   "metadata": {},
   "source": [
    "**Q5** (2 points): Share the code for determining the page-by-page sentiment in the book. You'll need to load more data out of the volume, and return to your groupby() skills.\n",
    "\n",
    "Hint: The sentiments for pages 8,9,and 13 are +5, +11, and -10. If you run .plot() on your final dataframe, it will look like this:\n",
    "\n",
    "![](../images/thestand-valence.png)"
   ]
  },
  {
   "cell_type": "markdown",
   "metadata": {},
   "source": [
    "## Tip\n",
    "\n",
    "That page-by-page sentiment plot is messy. If you want to see the overarching thrust of sentiment in the novel, try smoothing it with a rolling mean.\n",
    "\n",
    "A rolling mean takes the average sentiment for a window of pages, then moves the window forward one spot and averages again, and so on (e.g. with a window of 5, means are taken for pages 1-5, then pages 2-6, then 3-7, etc.)."
   ]
  },
  {
   "cell_type": "code",
   "execution_count": null,
   "metadata": {
    "collapsed": false
   },
   "outputs": [
    {
     "data": {
      "text/plain": [
       "<matplotlib.axes._subplots.AxesSubplot at 0x230dc3a0828>"
      ]
     },
     "execution_count": 57,
     "metadata": {},
     "output_type": "execute_result"
    },
    {
     "data": {
      "image/png": "[encoded data removed]",
      "text/plain": [
       "<matplotlib.figure.Figure at 0x230dc40a6d8>"
      ]
     },
     "metadata": {},
     "output_type": "display_data"
    }
   ],
   "source": [
    "grouped_sentiment['rolling'] = grouped_sentiment['total'].rolling(window=60, min_periods=1).mean()\n",
    "grouped_sentiment['rolling'].plot()"
   ]
  },
  {
   "cell_type": "markdown",
   "metadata": {},
   "source": [
    "This generally aligns with events in the *The Stand*. Things are fine for a very brief moment because a virus wipes out most of America. The rising sentiment happens through the middle act, as survivors are finding eaching, travelling toward Boulder, CO, and eventually rebuilding. Then the third act has a showdown with an antogonist and some smaller survival conflicts.\n",
    "\n",
    "Not perfect, but certainly more representative then the unsmoothed version!"
   ]
  },
  {
   "cell_type": "markdown",
   "metadata": {},
   "source": [
    "## Extra Notes\n",
    "\n",
    "Here is how you can visualize `twodims` in its original Numpy Array form, without converting it to a DataFrame."
   ]
  },
  {
   "cell_type": "code",
   "execution_count": null,
   "metadata": {
    "collapsed": false,
    "scrolled": true
   },
   "outputs": [
    {
     "data": {
      "text/plain": [
       "<matplotlib.collections.PathCollection at 0x2515958b5f8>"
      ]
     },
     "execution_count": 12,
     "metadata": {},
     "output_type": "execute_result"
    },
    {
     "data": {
      "image/png": "[encoded data removed]",
      "text/plain": [
       "<matplotlib.figure.Figure at 0x2515ab1ffd0>"
      ]
     },
     "metadata": {},
     "output_type": "display_data"
    }
   ],
   "source": [
    "import matplotlib.pyplot as plt\n",
    "plt.scatter(x=twodims[:,0], y=twodims[:,1])"
   ]
  },
  {
   "cell_type": "markdown",
   "metadata": {},
   "source": [
    "Since we have not done much work with arrays, it is worth noting how we provided the values to the scatterplot.\n",
    "\n",
    "The twodims array provides two values for each books. By asking for `twodims[:,0]` to set to x, that simply returns the first value for all the books. `:` is essentially saying \"from start to finish\": in this case we asked for all the rows. The second value refers to the columns: we only asked for the first column: `0`.\n",
    "\n",
    "Consider an array called `arr` that looks like this:\n",
    "\n",
    "```\n",
    "[[a, A],\n",
    " [b, B],\n",
    " [c, C]]\n",
    "```\n",
    "\n",
    "In this example, `arr[:,0]` returns `[a,b,c]`, while `arr[:,1]` returns `[A,B,C]`.\n",
    "\n",
    "Of course, while we haven't dealt with arrays much, we have dealt with their smarter cousin, DataFrames. If you want ignore all of the above, you can also convert twodims to a more familiar DataFrame:"
   ]
  }
 ],
 "metadata": {
  "kernelspec": {
   "display_name": "Python 3",
   "language": "python",
   "name": "python3"
  },
  "language_info": {
   "codemirror_mode": {
    "name": "ipython",
    "version": 3
   },
   "file_extension": ".py",
   "mimetype": "text/x-python",
   "name": "python",
   "nbconvert_exporter": "python",
   "pygments_lexer": "ipython3",
   "version": "3.5.1"
  }
 },
 "nbformat": 4,
 "nbformat_minor": 0
}
