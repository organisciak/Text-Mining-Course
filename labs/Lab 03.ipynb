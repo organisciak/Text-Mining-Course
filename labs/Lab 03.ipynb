{
  "nbformat": 4,
  "nbformat_minor": 0,
  "metadata": {
    "kernelspec": {
      "display_name": "Python 3",
      "language": "python",
      "name": "python3"
    },
    "language_info": {
      "codemirror_mode": {
        "name": "ipython",
        "version": 3
      },
      "file_extension": ".py",
      "mimetype": "text/x-python",
      "name": "python",
      "nbconvert_exporter": "python",
      "pygments_lexer": "ipython3",
      "version": "3.5.1"
    },
    "colab": {
      "name": "Lab 03.ipynb",
      "provenance": [],
      "include_colab_link": true
    }
  },
  "cells": [
    {
      "cell_type": "markdown",
      "metadata": {
        "id": "view-in-github",
        "colab_type": "text"
      },
      "source": [
        "<a href=\"https://colab.research.google.com/github/organisciak/Text-Mining-Course/blob/independentstudy/labs/Lab%2003.ipynb\" target=\"_parent\"><img src=\"https://colab.research.google.com/assets/colab-badge.svg\" alt=\"Open In Colab\"/></a>"
      ]
    },
    {
      "cell_type": "markdown",
      "metadata": {
        "id": "AWscfAQ2OT_3"
      },
      "source": [
        "# Week 3 Lab Task\n",
        "\n",
        "## More Jupyter/Colab Tips\n",
        "\n",
        "Hopefully by this week, you are growing more comfortable with starting Colab and adding/editing cells. Remember that the keyboard shortcuts are invaluable: running a cell with `Shift+Enter`, or adding a new cell below with `Ctrl+M B` (in command mode).\n",
        "\n",
        "Two tricks to try this week: autocompletion and retrieving documentation.\n",
        "\n",
        "**Autocomplete**\n",
        "\n",
        "If you start typing a known object or function into Jupyter, you can press `TAB` to finish it. This is especially useful for seeing what functions are available."
      ]
    },
    {
      "cell_type": "code",
      "metadata": {
        "id": "hopFVP7POT_5"
      },
      "source": [
        "test = \"this is a string\""
      ],
      "execution_count": 1,
      "outputs": []
    },
    {
      "cell_type": "markdown",
      "metadata": {
        "id": "VgtlwDJKOT_9"
      },
      "source": [
        "Above, I've set a string to `test`. If I type `te` then press tab, it will complete the word. This is especially useful for long variable names that you don't want to keep typing. Note that it only completed because there no other options: in that case, there's a scrollable list of candidates for what you might be looking for.\n",
        "\n",
        "The `test` variable is a string. Last week, we saw a two functions that can be performed on strings: `split()` and `join()`. If you would like to see what other options there are for strings, try typing `test.` then press TAB. Magic!\n",
        "\n",
        "![Auto-fill](https://github.com/organisciak/Text-Mining-Course/blob/independentstudy/images/autofill.png?raw=1)\n",
        "\n",
        "** Documentation reference **\n",
        "\n",
        "If you want to look up information about a function, you can precede the code running that function with a `?`. For example, if I want to learn how I would use `split()` on `test`, I can type:"
      ]
    },
    {
      "cell_type": "code",
      "metadata": {
        "id": "0pWtb4VcOT_-"
      },
      "source": [
        "?test.split()"
      ],
      "execution_count": null,
      "outputs": []
    },
    {
      "cell_type": "markdown",
      "metadata": {
        "id": "jPOZTIhmOUAJ"
      },
      "source": [
        "This will open a panel that looks like this in Jupyter:\n",
        "\n",
        "![Info](https://github.com/organisciak/Text-Mining-Course/blob/independentstudy/images/info.png?raw=1)\n",
        "\n",
        "The documentation is only as good as what the library is documented, so some libraries might be more or less detailed in this feature.\n",
        "\n",
        "*Questions*\n",
        "\n",
        "- 1) What does `test.isalpha()` do? Copy the documentation string.\n",
        "- 2) Strings have access to a function (whose name starts with a `ce`) that will let you change \"HEADING\" to \"====HEADING====\" (that is, padding with `=` to make the string 15 characters wide). What's the code to do that? (tip: this is an auto-fill question!)"
      ]
    },
    {
      "cell_type": "markdown",
      "metadata": {
        "id": "jESUAUdGOUAM"
      },
      "source": [
        "## Intro to the NLTK\n",
        "\n",
        "This week we'll start using the Natural Language toolkit. For the remaining questions, follow along with:\n",
        "\n",
        "- [Getting NLTK for Text Processing](https://github.com/sgsinclair/alta/blob/2acb6ed09f298f631e4025d33f062f980758a1ce/ipynb/GettingNltk.ipynb), Art of Literary Text Analysis\n",
        "\n",
        "Two notes. First, the tutorial suggests downloading \"all\" packages. However, install the packages from 'book' should be sufficient for now.\n",
        "\n",
        "Also, skip the text processing section, which deals with automatically downloading and cleaning a book. Instead, load this [already-cleaned version of Mary Shelley's Frankenstein](https://raw.githubusercontent.com/organisciak/Text-Mining-Course/master/data/frankenstein.txt).\n",
        "\n",
        "Note that normally, you can only open local files on your computer with `open()`. This is why I'm importing a new `open` function from the `smart_open` library: it's a replacement for the built in `open` function that works the same, *except* it also allows you to load from a URL."
      ]
    },
    {
      "cell_type": "code",
      "metadata": {
        "id": "mZyDu88POUAO"
      },
      "source": [
        "from smart_open import open\n",
        "with open(\"https://raw.githubusercontent.com/organisciak/Text-Mining-Course/independentstudy/data/frankenstein.txt\") as f:\n",
        "    frankensteinString = f.read()"
      ],
      "execution_count": 4,
      "outputs": []
    },
    {
      "cell_type": "markdown",
      "metadata": {
        "id": "v5XAtR4nOUAY"
      },
      "source": [
        "Here's a quick way of viewing part of our string: the first 250 characters. Notice that you can select subsets of strings like you select subsets of lists. "
      ]
    },
    {
      "cell_type": "code",
      "metadata": {
        "id": "mLevJc4xOUAZ",
        "colab": {
          "base_uri": "https://localhost:8080/",
          "height": 70
        },
        "outputId": "1f0831be-c0a9-4cb0-bff2-c008fb4a0b9d"
      },
      "source": [
        "frankensteinString[0:250]"
      ],
      "execution_count": 5,
      "outputs": [
        {
          "output_type": "execute_result",
          "data": {
            "text/plain": [
              "'Letter 1\\n\\nSt. Petersburgh, Dec. 11th, 17--\\n\\nTO Mrs. Saville, England\\n\\nYou will rejoice to hear that no disaster has accompanied the\\ncommencement of an enterprise which you have regarded with such evil\\nforebodings.  I arrived here yesterday, and my fi'"
            ],
            "application/vnd.google.colaboratory.intrinsic+json": {
              "type": "string"
            }
          },
          "metadata": {},
          "execution_count": 5
        }
      ]
    },
    {
      "cell_type": "markdown",
      "metadata": {
        "id": "UuqLxPejOUAd"
      },
      "source": [
        " > Side-note for the Python novice: you don't actually need the zero in [0:250]. If left blank, like '[:250]`, Python will assume \"from the very start\", which is the same as using a 0. If you leave the second part blank, Python will assume \"until the very end\".\n",
        "    \n",
        "For the rest of the ALTA chapter, follow along using `frankensteinString` string instead of `goldBugString`."
      ]
    },
    {
      "cell_type": "markdown",
      "metadata": {
        "id": "pr-uuGjjOUAe"
      },
      "source": [
        "__Questions__\n",
        "\n",
        " - 3) Use the `word_tokenize` function on Frankenstein, as shown in ALTA. What are tokens 39:67? Hint: this is a full sentence. Include your code.\n",
        " - 4) Create a sample of only the tokens where the first character is an alphabetical character. In this sample, what are tokens 1215:1221? Again, this will be a sentence, but won't include punctuation as tokens. Include your code.\n",
        " \n",
        " _For the next questions use the list of tokens that start with an alphabetical character._\n",
        " \n",
        " \n",
        " - 5) What are the ten most frequent words in this book? Create a frequency distribution of the words from question 4, then tabulate the top 10 words. Include your code.\n",
        " - 6) After case-folding, what are the ten most frequent words in this book? Include your code.\n",
        " - 7) Rewrite this list comprehension as a `for` loop (what ALTA called technique 1): `[word for word in listOfWords if word.find('-') >= 0]`. No output necessary, just the code, but feel free to test it out.\n",
        " - 8) We're going to use a customized stoplist. First, load the NLTK stoplist, and add the words 'could', 'would', 'upon', and 'yet' to the stoplist. What are the top ten case-folded words when stopping against the stoplist. Include your code and paste the tabulated output.\n",
        " \n",
        "Using the autocomplete in Colab/Jupyter, you may notice that a list of tokens converted to a `FreqDist` object has more methods than just `tabulate()`. One really cool one is `plot()`.\n",
        "\n",
        "`plot` gives you a visualization of the top frequency words."
      ]
    },
    {
      "cell_type": "markdown",
      "metadata": {
        "id": "MDxXnMC4OUAs"
      },
      "source": [
        "**Questions**\n",
        "\n",
        "- 9) Write the code to plot the top forty stoplisted, lowercase words (from question 8). And again, remember the docs! The output will look similar to this:"
      ]
    },
    {
      "cell_type": "markdown",
      "metadata": {
        "id": "rvfuEhWhOUAt"
      },
      "source": [
        "![test](https://github.com/organisciak/Text-Mining-Course/blob/independentstudy/images/freqplot.png?raw=1)"
      ]
    },
    {
      "cell_type": "markdown",
      "metadata": {
        "id": "DKtN3l5IOUAu"
      },
      "source": [
        "- 10) Enter the first 5 concordances for the word \"monster\" in the original token list - the list straight from word_tokenize that included punctuation and numbers - narrowing the search to a 49-characters window. Include the code. Tip: See the docs for the concordance tool in Colab/Jupyter."
      ]
    },
    {
      "cell_type": "markdown",
      "metadata": {
        "id": "UcKTZMSFPux_"
      },
      "source": [
        "**Don't forget to save your work in Google Drive! To submit, click 'Share' and email the link to Dr. O.**"
      ]
    }
  ]
}