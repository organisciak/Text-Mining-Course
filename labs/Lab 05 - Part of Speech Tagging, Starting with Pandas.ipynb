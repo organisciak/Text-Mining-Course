{
 "cells": [
  {
   "cell_type": "markdown",
   "metadata": {},
   "source": [
    "# Lab 5"
   ]
  },
  {
   "cell_type": "markdown",
   "metadata": {},
   "source": [
    "## Part of Speech Tagging\n",
    "\n",
    "And tuples!\n",
    "\n",
    "Here is how you tag parts-of-speech with NLTK:"
   ]
  },
  {
   "cell_type": "code",
   "execution_count": null,
   "metadata": {
    "collapsed": false
   },
   "outputs": [
    {
     "data": {
      "text/plain": [
       "[('And', 'CC'),\n",
       " ('now', 'RB'),\n",
       " ('for', 'IN'),\n",
       " ('something', 'NN'),\n",
       " ('completely', 'RB'),\n",
       " ('different', 'JJ')]"
      ]
     },
     "execution_count": 3,
     "metadata": {},
     "output_type": "execute_result"
    }
   ],
   "source": [
    "import nltk\n",
    "text = \"And now for something completely different\"\n",
    "tokens = nltk.word_tokenize(text)\n",
    "tagged = nltk.pos_tag(tokens)\n",
    "tagged"
   ]
  },
  {
   "cell_type": "markdown",
   "metadata": {},
   "source": [
    "The output of `pos_tag` is a list of objects called 'tuples'. You can access a tuple by index or you can easily expand it into multiple variables:"
   ]
  },
  {
   "cell_type": "code",
   "execution_count": null,
   "metadata": {
    "collapsed": false
   },
   "outputs": [
    {
     "data": {
      "text/plain": [
       "('England', 'PRP')"
      ]
     },
     "execution_count": 16,
     "metadata": {},
     "output_type": "execute_result"
    }
   ],
   "source": [
    "test_tuple = ('England', 'PRP')\n",
    "test_tuple"
   ]
  },
  {
   "cell_type": "code",
   "execution_count": null,
   "metadata": {
    "collapsed": false
   },
   "outputs": [
    {
     "data": {
      "text/plain": [
       "'England'"
      ]
     },
     "execution_count": 17,
     "metadata": {},
     "output_type": "execute_result"
    }
   ],
   "source": [
    "test_tuple[0]"
   ]
  },
  {
   "cell_type": "code",
   "execution_count": null,
   "metadata": {
    "collapsed": false
   },
   "outputs": [
    {
     "data": {
      "text/plain": [
       "'England'"
      ]
     },
     "execution_count": 18,
     "metadata": {},
     "output_type": "execute_result"
    }
   ],
   "source": [
    "word, pos = test_tuple\n",
    "word"
   ]
  },
  {
   "cell_type": "markdown",
   "metadata": {},
   "source": [
    "Since you can expand tuples easily, you can name the parts of a tuple in a list comprehension. Note in the following example that we follow a `for x, y in list_of_tuples` pattern instead of `for x in list_of_tuples` as we've encountered before: "
   ]
  },
  {
   "cell_type": "code",
   "execution_count": null,
   "metadata": {
    "collapsed": false
   },
   "outputs": [
    {
     "data": {
      "text/plain": [
       "['CC', 'RB', 'IN', 'NN', 'RB', 'JJ']"
      ]
     },
     "execution_count": 5,
     "metadata": {},
     "output_type": "execute_result"
    }
   ],
   "source": [
    "[tag for word, tag in tagged]"
   ]
  },
  {
   "cell_type": "markdown",
   "metadata": {},
   "source": [
    "The `for x,y in list_of_tuples` approach also works for in for loops.\n",
    "\n",
    "Tuples don't need to have only two values in Python, but that's the most common. "
   ]
  },
  {
   "cell_type": "markdown",
   "metadata": {},
   "source": [
    "**Q1**: How do you get a list of all the singular proper nouns tagged by NLTK in Frankenstein? Share just the code.\n",
    "\n",
    "Part of Speech tag definitions are at [Penn Treebank](https://www.ling.upenn.edu/courses/Fall_2003/ling001/penn_treebank_pos.html). To double check, the output of your code should start with `['St.', 'Petersburgh', 'Dec.', 'TO', 'Mrs.']`. For Python beginners, note that comparing strings is done with `==`, as in `string == string2`."
   ]
  },
  {
   "cell_type": "code",
   "execution_count": null,
   "metadata": {
    "collapsed": false
   },
   "outputs": [],
   "source": [
    "# Getting started\n",
    "with open(\"../data/frankenstein.txt\") as f:\n",
    "    frank_string = f.read()\n",
    "frank_tokens = nltk.word_tokenize(frank_string)\n",
    "\n",
    "# ... what's next?"
   ]
  },
  {
   "cell_type": "markdown",
   "metadata": {},
   "source": [
    "# Getting into Pandas and the HTRC Extracted Features\n",
    "\n",
    "For the rest of the lab, follow along with [Text Mining in Python with the HTRC Feature Reader](http://programminghistorian.org/lessons/text-mining-with-extracted-features) up to and including \"Selecting Subsets of a DataFrame by a Condition\" (i.e. stop when you see 'Slicing DataFrames'). This tutorial will introduce you to two things:\n",
    " 1. The HTRC Extracted Features Dataset, which we discussed last week.\n",
    " 2. A library called Pandas, an important part of our toolkit moving forward.\n",
    "\n",
    "You'll be able to skim many of the early parts of the tutorial, since you've already learned those skills. Don't overlook \"Installing the HTRC Feature Reader\", though."
   ]
  },
  {
   "cell_type": "markdown",
   "metadata": {},
   "source": [
    "*Questions*\n",
    "\n",
    "I've posted an HTRC Extracted Features file: [mdp.49015002392919.json.bz2]( https://github.com/organisciak/Text-Mining-Course/blob/master/data/mdp.49015002392919.json.bz2). Use the Feature Reader library to answer the following questions about that file:\n",
    "\n",
    "**Q2**: What is the title of the book?\n",
    "\n",
    " 1. 'The adventures of Tom Sawyer, by Mark Twain (Samuel L. Clemens)...'\n",
    " 2. 'Frankenstein : or, The modern Prometheus.'\n",
    " 3. 'June / by Edith Barnard Delano ; with illustrations.'\n",
    " 4. 'Anne of Green Gables / L.M. Montgomery.'\n",
    " 5. None of the above."
   ]
  },
  {
   "cell_type": "markdown",
   "metadata": {},
   "source": [
    "**Q3**: What is the URL to read this book online at the HathiTrust Digital Library?"
   ]
  },
  {
   "cell_type": "markdown",
   "metadata": {},
   "source": [
    "**Q4**: Which of these charts is the plot of tokens/page across the entire book?\n",
    "\n",
    "1. ![](../images/lab5-plot1.png)\n",
    "2. ![](../images/lab5-plot2.png)\n",
    "3. ![](../images/lab5-plot3.png)\n",
    "5. None of the above."
   ]
  },
  {
   "cell_type": "markdown",
   "metadata": {
    "collapsed": true
   },
   "source": [
    "**Q5**: How do you get the word frequencies for the header throughout the book? (Not changing any of the other default arguments)"
   ]
  },
  {
   "cell_type": "markdown",
   "metadata": {},
   "source": [
    "**Q6**: How do you get the count of each word in the body of the text for the entire book, not worrying about pages or parts of speech? Share your code. *Hint: the length of the correct output (i.e. `len(object_from_your_answer)`) is `9267`.*"
   ]
  },
  {
   "cell_type": "markdown",
   "metadata": {},
   "source": [
    "**Q7**: In the output from Q6, which of the following parts are indexes or columns?\n",
    "\n",
    "*section*: index, column, or doesn't exist\n",
    "\n",
    "*word*:    index, column, or doesn't exist\n",
    "\n",
    "*token*:   index, column, or doesn't exist\n",
    "\n",
    "*count*:   index, column, or doesn't exist"
   ]
  },
  {
   "cell_type": "markdown",
   "metadata": {},
   "source": [
    "**Q8**: Setting the output to Q6 to a variable called `tl`, what is the line of code to sort values in descending order? To figure out the answer, you can try searching online about sorting in Pandas, or try auto-complete and documentation lookup in Jupyter to see what `tl` can do and how.\n",
    "\n",
    "If it is ordered correctly, the top words will be '`,`' (4934 occurrences), '`.`' (3866), and '`the`' (3320)."
   ]
  },
  {
   "cell_type": "markdown",
   "metadata": {},
   "source": [
    "**Q9**: Here is a list of words that show up 64 times in `tl`: [can, face, seemed, where]. What other words with a count of 64 are missing?\n",
    "\n",
    " - than\n",
    " - hand\n",
    " - want\n",
    " - heart"
   ]
  },
  {
   "cell_type": "markdown",
   "metadata": {},
   "source": [
    "What if we wanted to work with our text in a DataFrame? Here's how you would convert the list of part-of-speech tagged tuples into a DataFrame, where I called my initial list `frank_tagged`:"
   ]
  },
  {
   "cell_type": "code",
   "execution_count": null,
   "metadata": {
    "collapsed": false
   },
   "outputs": [
    {
     "data": {
      "text/html": [
       "<div>\n",
       "<table border=\"1\" class=\"dataframe\">\n",
       "  <thead>\n",
       "    <tr style=\"text-align: right;\">\n",
       "      <th></th>\n",
       "      <th>word</th>\n",
       "      <th>pos</th>\n",
       "    </tr>\n",
       "  </thead>\n",
       "  <tbody>\n",
       "    <tr>\n",
       "      <th>0</th>\n",
       "      <td>Letter</td>\n",
       "      <td>NN</td>\n",
       "    </tr>\n",
       "    <tr>\n",
       "      <th>1</th>\n",
       "      <td>1</td>\n",
       "      <td>CD</td>\n",
       "    </tr>\n",
       "    <tr>\n",
       "      <th>2</th>\n",
       "      <td>St.</td>\n",
       "      <td>NNP</td>\n",
       "    </tr>\n",
       "    <tr>\n",
       "      <th>3</th>\n",
       "      <td>Petersburgh</td>\n",
       "      <td>NNP</td>\n",
       "    </tr>\n",
       "  </tbody>\n",
       "</table>\n",
       "</div>"
      ],
      "text/plain": [
       "          word  pos\n",
       "0       Letter   NN\n",
       "1            1   CD\n",
       "2          St.  NNP\n",
       "3  Petersburgh  NNP"
      ]
     },
     "execution_count": 96,
     "metadata": {},
     "output_type": "execute_result"
    }
   ],
   "source": [
    "import pandas as pd\n",
    "frank_df = pd.DataFrame(frank_tagged, columns=['word', 'pos'])\n",
    "frank_df.head(4)"
   ]
  },
  {
   "cell_type": "markdown",
   "metadata": {},
   "source": [
    "Pandas is - by convention, not rule - imported with the name `pd`. Note that gave the columns names.\n",
    "\n",
    "**Q10**: What code would you use on `frank_df` to get the singular proper nouns? It should give you 1371 rows."
   ]
  }
 ],
 "metadata": {
  "kernelspec": {
   "display_name": "Python 3",
   "language": "python",
   "name": "python3"
  },
  "language_info": {
   "codemirror_mode": {
    "name": "ipython",
    "version": 3
   },
   "file_extension": ".py",
   "mimetype": "text/x-python",
   "name": "python",
   "nbconvert_exporter": "python",
   "pygments_lexer": "ipython3",
   "version": "3.5.1"
  }
 },
 "nbformat": 4,
 "nbformat_minor": 0
}
